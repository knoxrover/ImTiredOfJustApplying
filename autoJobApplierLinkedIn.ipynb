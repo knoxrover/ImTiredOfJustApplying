{
 "cells": [
  {
   "cell_type": "code",
   "execution_count": 1,
   "metadata": {
    "tags": []
   },
   "outputs": [],
   "source": [
    "from selenium import webdriver\n",
    "from selenium.webdriver.common.by import By\n",
    "from selenium.webdriver.support.ui import WebDriverWait\n",
    "from selenium.webdriver.support import expected_conditions as EC"
   ]
  },
  {
   "cell_type": "code",
   "execution_count": 2,
   "metadata": {},
   "outputs": [],
   "source": [
    "# Example usage\n",
    "keywords = [\"Junior Software Engineer\", \"Entry level Software Developer\", \"ReactJs Developer\"]"
   ]
  },
  {
   "cell_type": "code",
   "execution_count": 4,
   "metadata": {},
   "outputs": [
    {
     "ename": "TimeoutException",
     "evalue": "Message: \nStacktrace:\nBacktrace:\n\tGetHandleVerifier [0x00FFA813+48355]\n\t(No symbol) [0x00F8C4B1]\n\t(No symbol) [0x00E95358]\n\t(No symbol) [0x00EC09A5]\n\t(No symbol) [0x00EC0B3B]\n\t(No symbol) [0x00EEE232]\n\t(No symbol) [0x00EDA784]\n\t(No symbol) [0x00EEC922]\n\t(No symbol) [0x00EDA536]\n\t(No symbol) [0x00EB82DC]\n\t(No symbol) [0x00EB93DD]\n\tGetHandleVerifier [0x0125AABD+2539405]\n\tGetHandleVerifier [0x0129A78F+2800735]\n\tGetHandleVerifier [0x0129456C+2775612]\n\tGetHandleVerifier [0x010851E0+616112]\n\t(No symbol) [0x00F95F8C]\n\t(No symbol) [0x00F92328]\n\t(No symbol) [0x00F9240B]\n\t(No symbol) [0x00F84FF7]\n\tBaseThreadInitThunk [0x76BA7D59+25]\n\tRtlInitializeExceptionChain [0x779FB74B+107]\n\tRtlClearBits [0x779FB6CF+191]\n",
     "output_type": "error",
     "traceback": [
      "\u001b[1;31m---------------------------------------------------------------------------\u001b[0m",
      "\u001b[1;31mTimeoutException\u001b[0m                          Traceback (most recent call last)",
      "Cell \u001b[1;32mIn[4], line 45\u001b[0m\n\u001b[0;32m     42\u001b[0m     \u001b[39m# Close the browser\u001b[39;00m\n\u001b[0;32m     43\u001b[0m     driver\u001b[39m.\u001b[39mquit()\n\u001b[1;32m---> 45\u001b[0m apply_to_jobs(keywords)\n",
      "Cell \u001b[1;32mIn[4], line 14\u001b[0m, in \u001b[0;36mapply_to_jobs\u001b[1;34m(keywords)\u001b[0m\n\u001b[0;32m     11\u001b[0m driver\u001b[39m.\u001b[39mget(url)\n\u001b[0;32m     13\u001b[0m \u001b[39m# Wait until job listings are loaded\u001b[39;00m\n\u001b[1;32m---> 14\u001b[0m wait\u001b[39m.\u001b[39;49muntil(EC\u001b[39m.\u001b[39;49mpresence_of_element_located((By\u001b[39m.\u001b[39;49mCLASS_NAME, \u001b[39m\"\u001b[39;49m\u001b[39mjob-card-container\u001b[39;49m\u001b[39m\"\u001b[39;49m)))\n\u001b[0;32m     16\u001b[0m \u001b[39m# Find all job listings\u001b[39;00m\n\u001b[0;32m     17\u001b[0m job_listings \u001b[39m=\u001b[39m driver\u001b[39m.\u001b[39mfind_elements(By\u001b[39m.\u001b[39mCLASS_NAME, \u001b[39m\"\u001b[39m\u001b[39mjob-card-container\u001b[39m\u001b[39m\"\u001b[39m)\n",
      "File \u001b[1;32mc:\\Users\\saivi\\AppData\\Local\\Programs\\Python\\Python310\\lib\\site-packages\\selenium\\webdriver\\support\\wait.py:95\u001b[0m, in \u001b[0;36mWebDriverWait.until\u001b[1;34m(self, method, message)\u001b[0m\n\u001b[0;32m     93\u001b[0m     \u001b[39mif\u001b[39;00m time\u001b[39m.\u001b[39mmonotonic() \u001b[39m>\u001b[39m end_time:\n\u001b[0;32m     94\u001b[0m         \u001b[39mbreak\u001b[39;00m\n\u001b[1;32m---> 95\u001b[0m \u001b[39mraise\u001b[39;00m TimeoutException(message, screen, stacktrace)\n",
      "\u001b[1;31mTimeoutException\u001b[0m: Message: \nStacktrace:\nBacktrace:\n\tGetHandleVerifier [0x00FFA813+48355]\n\t(No symbol) [0x00F8C4B1]\n\t(No symbol) [0x00E95358]\n\t(No symbol) [0x00EC09A5]\n\t(No symbol) [0x00EC0B3B]\n\t(No symbol) [0x00EEE232]\n\t(No symbol) [0x00EDA784]\n\t(No symbol) [0x00EEC922]\n\t(No symbol) [0x00EDA536]\n\t(No symbol) [0x00EB82DC]\n\t(No symbol) [0x00EB93DD]\n\tGetHandleVerifier [0x0125AABD+2539405]\n\tGetHandleVerifier [0x0129A78F+2800735]\n\tGetHandleVerifier [0x0129456C+2775612]\n\tGetHandleVerifier [0x010851E0+616112]\n\t(No symbol) [0x00F95F8C]\n\t(No symbol) [0x00F92328]\n\t(No symbol) [0x00F9240B]\n\t(No symbol) [0x00F84FF7]\n\tBaseThreadInitThunk [0x76BA7D59+25]\n\tRtlInitializeExceptionChain [0x779FB74B+107]\n\tRtlClearBits [0x779FB6CF+191]\n"
     ]
    }
   ],
   "source": [
    "\n",
    "def apply_to_jobs(keywords):\n",
    "    # Set up WebDriver (assuming you have the appropriate driver executable in your PATH)\n",
    "    driver = webdriver.Chrome()\n",
    "    wait = WebDriverWait(driver, 10)\n",
    "    \n",
    "    # Track the job application history\n",
    "    application_history = []\n",
    "    \n",
    "    for keyword in keywords:\n",
    "        url = f\"https://www.linkedin.com/jobs/search/?keywords={keyword}\"\n",
    "        driver.get(url)\n",
    "        \n",
    "        # Wait until job listings are loaded\n",
    "        wait.until(EC.presence_of_element_located((By.CLASS_NAME, \"job-card-container\")))\n",
    "        \n",
    "        # Find all job listings\n",
    "        job_listings = driver.find_elements(By.CLASS_NAME, \"job-card-container\")\n",
    "        \n",
    "        for job in job_listings:\n",
    "            # Extract job details\n",
    "            title = job.find_element(By.CLASS_NAME, \"job-card-search__title\").text\n",
    "            company = job.find_element(By.CLASS_NAME, \"job-card-container__company-name\").text\n",
    "            apply_button = job.find_element(By.CLASS_NAME, \"job-card-container__apply-method\")\n",
    "            application_link = apply_button.get_attribute(\"href\")\n",
    "            \n",
    "            # Check if job has already been applied\n",
    "            if application_link in application_history:\n",
    "                continue\n",
    "            \n",
    "            # Click on \"Quick Apply\" button\n",
    "            apply_button.click()\n",
    "            \n",
    "            # Complete the application process (fill out forms, upload resume, etc.)\n",
    "            # You'll need to identify the necessary form fields and interact with them using Selenium\n",
    "            \n",
    "            # Once the application is submitted successfully, add the application link to the history\n",
    "            application_history.append(application_link)\n",
    "            \n",
    "            # Go back to the job listings page\n",
    "            driver.back()\n",
    "        \n",
    "    # Close the browser\n",
    "    driver.quit()\n",
    "\n",
    "apply_to_jobs(keywords)"
   ]
  }
 ],
 "metadata": {
  "kernelspec": {
   "display_name": "Python 3",
   "language": "python",
   "name": "python3"
  },
  "language_info": {
   "codemirror_mode": {
    "name": "ipython",
    "version": 3
   },
   "file_extension": ".py",
   "mimetype": "text/x-python",
   "name": "python",
   "nbconvert_exporter": "python",
   "pygments_lexer": "ipython3",
   "version": "3.10.11"
  },
  "orig_nbformat": 4
 },
 "nbformat": 4,
 "nbformat_minor": 2
}
